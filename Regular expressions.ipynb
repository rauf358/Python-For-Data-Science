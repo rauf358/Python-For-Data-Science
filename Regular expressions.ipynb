{
 "cells": [
  {
   "cell_type": "markdown",
   "id": "d519529a",
   "metadata": {},
   "source": [
    "# REGEX\n"
   ]
  },
  {
   "cell_type": "code",
   "execution_count": 1,
   "id": "be9e0f06",
   "metadata": {},
   "outputs": [],
   "source": [
    "import re"
   ]
  },
  {
   "cell_type": "code",
   "execution_count": 2,
   "id": "b0029f74",
   "metadata": {},
   "outputs": [],
   "source": [
    "emails = ['test@example-com', 'firstlast@examplecom', 'test.one@@example.com',\n",
    "              'secondtest@ex#ample.com', 'john.doe@example.com', 'third.testexample.com',\n",
    "              'sample_email@examplecom', 'user1234@example.com', 'alice.bob@ex&ample.com',\n",
    "              'last.first@example.com', 'randomuserexample.com', 'test_two@exam*ple.com',\n",
    "              'demo.user@example.com', 'testthreeexample.com', 'example_user@examplecom',\n",
    "              'sample.test@example.com', 'user.test@examp$le.com', 'test.four @example.com',\n",
    "              'fifth.test@exa!mple.com', 'anotheruser@example.com']\n"
   ]
  },
  {
   "cell_type": "code",
   "execution_count": 4,
   "id": "2beba310",
   "metadata": {},
   "outputs": [],
   "source": [
    "pattern = r\"\\w+@example.com\"\n",
    "Valid_emails = []\n",
    "invalid_emails=[]\n",
    "for i in emails:\n",
    "    if re.search(pattern,i):\n",
    "         Valid_emails.append(i)\n",
    "    else:\n",
    "        invalid_emails.append(i)"
   ]
  },
  {
   "cell_type": "code",
   "execution_count": 5,
   "id": "c4b89c6d",
   "metadata": {},
   "outputs": [
    {
     "data": {
      "text/plain": [
       "['test@example-com',\n",
       " 'john.doe@example.com',\n",
       " 'user1234@example.com',\n",
       " 'last.first@example.com',\n",
       " 'demo.user@example.com',\n",
       " 'sample.test@example.com',\n",
       " 'anotheruser@example.com']"
      ]
     },
     "execution_count": 5,
     "metadata": {},
     "output_type": "execute_result"
    }
   ],
   "source": [
    "Valid_emails\n"
   ]
  },
  {
   "cell_type": "code",
   "execution_count": 6,
   "id": "cb367187",
   "metadata": {},
   "outputs": [
    {
     "data": {
      "text/plain": [
       "['firstlast@examplecom',\n",
       " 'test.one@@example.com',\n",
       " 'secondtest@ex#ample.com',\n",
       " 'third.testexample.com',\n",
       " 'sample_email@examplecom',\n",
       " 'alice.bob@ex&ample.com',\n",
       " 'randomuserexample.com',\n",
       " 'test_two@exam*ple.com',\n",
       " 'testthreeexample.com',\n",
       " 'example_user@examplecom',\n",
       " 'user.test@examp$le.com',\n",
       " 'test.four @example.com',\n",
       " 'fifth.test@exa!mple.com']"
      ]
     },
     "execution_count": 6,
     "metadata": {},
     "output_type": "execute_result"
    }
   ],
   "source": [
    "invalid_emails"
   ]
  },
  {
   "cell_type": "code",
   "execution_count": 14,
   "id": "17d0bda9",
   "metadata": {},
   "outputs": [],
   "source": [
    "phone_numbers = [\n",
    "    \"03001234567\",\n",
    "    \"0335@123456\",\n",
    "    \"03331234567\",\n",
    "    \"0321#123456\",\n",
    "    \"03001234568\",\n",
    "    \"0335/123456\",\n",
    "    \"03339876543\",\n",
    "    \"03211234567\",\n",
    "    \"03009876543\",\n",
    "    \"03351234567*\",\n",
    "    \"03331234568\",\n",
    "    \"0321&123456\",\n",
    "    \"0300_ABCDEFG\",\n",
    "    \"03351234568\",\n",
    "    \"0333.123.456\",\n",
    "    \"03219876543\",\n",
    "    \"03001234567_\",\n",
    "    \"03331234567+\",\n",
    "    \"03211234568\",\n",
    "    \"0300-123-456\",\n",
    "    \"0335#123456\",\n",
    "    \"0333-123-456\",\n",
    "    \"0321+123456\",\n",
    "    \"03001234568\",\n",
    "    \"0335*123456\",\n",
    "    \"03331234568\",\n",
    "    \"0321?123456\",\n",
    "    \"03009876543\",\n",
    "    \"03351234567?\",\n",
    "    \"0333/123456\",\n",
    "    \"03211234567\",\n",
    "    \"0300.123.456\",\n",
    "    \"03351234568\",\n",
    "    \"0333@123456\",\n",
    "    \"03219876543\"\n",
    "]"
   ]
  },
  {
   "cell_type": "code",
   "execution_count": 20,
   "id": "e19fd7a1",
   "metadata": {},
   "outputs": [
    {
     "name": "stdout",
     "output_type": "stream",
     "text": [
      "03001234567\n",
      "03331234567\n",
      "03001234568\n",
      "03339876543\n",
      "03211234567\n",
      "03009876543\n",
      "03331234568\n",
      "03351234568\n",
      "03219876543\n",
      "03211234568\n",
      "03001234568\n",
      "03331234568\n",
      "03009876543\n",
      "03211234567\n",
      "03351234568\n",
      "03219876543\n"
     ]
    }
   ],
   "source": [
    "pattern2=r'\\d{11}'\n",
    "for i in phone_numbers:\n",
    "    if re.search(pattern2,i):\n",
    "           if len(i)==11:\n",
    "                  print(i)"
   ]
  },
  {
   "cell_type": "code",
   "execution_count": 21,
   "id": "80533ad0",
   "metadata": {},
   "outputs": [],
   "source": [
    "pattern2=r'\\d{11}'\n",
    "valid_phoneNums=[]\n",
    "invalid_phoneNums=[]\n",
    "for i in phone_numbers:\n",
    "    if re.search(pattern2,i):\n",
    "           if len(i)==11:\n",
    "                   valid_phoneNums.append(i)\n",
    "    else: \n",
    "        invalid_phoneNums.append(i)"
   ]
  },
  {
   "cell_type": "code",
   "execution_count": 22,
   "id": "72016371",
   "metadata": {},
   "outputs": [
    {
     "data": {
      "text/plain": [
       "['03001234567',\n",
       " '03331234567',\n",
       " '03001234568',\n",
       " '03339876543',\n",
       " '03211234567',\n",
       " '03009876543',\n",
       " '03331234568',\n",
       " '03351234568',\n",
       " '03219876543',\n",
       " '03211234568',\n",
       " '03001234568',\n",
       " '03331234568',\n",
       " '03009876543',\n",
       " '03211234567',\n",
       " '03351234568',\n",
       " '03219876543']"
      ]
     },
     "execution_count": 22,
     "metadata": {},
     "output_type": "execute_result"
    }
   ],
   "source": [
    "valid_phoneNums"
   ]
  },
  {
   "cell_type": "code",
   "execution_count": 23,
   "id": "49e29356",
   "metadata": {},
   "outputs": [
    {
     "data": {
      "text/plain": [
       "['0335@123456',\n",
       " '0321#123456',\n",
       " '0335/123456',\n",
       " '0321&123456',\n",
       " '0300_ABCDEFG',\n",
       " '0333.123.456',\n",
       " '0300-123-456',\n",
       " '0335#123456',\n",
       " '0333-123-456',\n",
       " '0321+123456',\n",
       " '0335*123456',\n",
       " '0321?123456',\n",
       " '0333/123456',\n",
       " '0300.123.456',\n",
       " '0333@123456']"
      ]
     },
     "execution_count": 23,
     "metadata": {},
     "output_type": "execute_result"
    }
   ],
   "source": [
    "invalid_phoneNums"
   ]
  },
  {
   "cell_type": "code",
   "execution_count": null,
   "id": "a1b1e051",
   "metadata": {},
   "outputs": [],
   "source": []
  }
 ],
 "metadata": {
  "kernelspec": {
   "display_name": "Python 3 (ipykernel)",
   "language": "python",
   "name": "python3"
  },
  "language_info": {
   "codemirror_mode": {
    "name": "ipython",
    "version": 3
   },
   "file_extension": ".py",
   "mimetype": "text/x-python",
   "name": "python",
   "nbconvert_exporter": "python",
   "pygments_lexer": "ipython3",
   "version": "3.11.4"
  }
 },
 "nbformat": 4,
 "nbformat_minor": 5
}
